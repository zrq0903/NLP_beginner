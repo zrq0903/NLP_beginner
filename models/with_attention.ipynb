{
 "cells": [
  {
   "cell_type": "code",
   "id": "initial_id",
   "metadata": {
    "collapsed": true,
    "ExecuteTime": {
     "end_time": "2024-11-19T21:39:20.308059Z",
     "start_time": "2024-11-19T21:39:20.300138Z"
    }
   },
   "source": "# Importing the libraries\n",
   "outputs": [],
   "execution_count": 1
  },
  {
   "metadata": {
    "ExecuteTime": {
     "end_time": "2024-11-19T22:11:35.589627Z",
     "start_time": "2024-11-19T22:11:35.564692Z"
    }
   },
   "cell_type": "code",
   "source": [
    "with open(r\"..\\dataset\\ELRC-417-Swedish_Work_Environ.en-fr.en\", 'r', encoding='utf-8') as file:\n",
    "    lines = file.readlines()\n",
    "src_sentences = []\n",
    "print(len(lines))\n",
    "for line in lines[1:-1]:\n",
    "    src_sentences.append(line.strip())\n",
    "\n",
    "with open(r\"..\\dataset\\ELRC-417-Swedish_Work_Environ.en-fr.fr\", 'r', encoding='utf-8') as file:\n",
    "    lines = file.readlines()\n",
    "trg_sentences = []\n",
    "for line in lines[1:-1]:\n",
    "    trg_sentences.append(line.strip())"
   ],
   "id": "b513fb6c0c5c622e",
   "outputs": [
    {
     "name": "stdout",
     "output_type": "stream",
     "text": [
      "12\n"
     ]
    }
   ],
   "execution_count": 51
  },
  {
   "metadata": {
    "ExecuteTime": {
     "end_time": "2024-11-19T22:51:48.374691Z",
     "start_time": "2024-11-19T22:51:48.338478Z"
    }
   },
   "cell_type": "code",
   "source": [
    "src_word_list = []\n",
    "for sentence in src_sentences:\n",
    "    src_word_list.extend([word.lower() for word in sentence[:-1].split()])\n",
    "#len(src_word_list)\n",
    "src_vocab = set(src_word_list)\n",
    "\n",
    "src_vocab = list(src_vocab)\n",
    "src_vocab.extend(['<unk>','<pad>','<sos>','<eos>','.',','])\n",
    "trg_word_list = []\n",
    "for sentence in trg_sentences:\n",
    "    trg_word_list.extend([word.lower() for word in sentence[:-1].split()])\n",
    "trg_vocab = list(set(trg_word_list))\n",
    "trg_vocab.extend(['<unk>','<pad>','<sos>','<eos>','.',','])\n",
    "trg_vocab"
   ],
   "id": "8181c86554511dfb",
   "outputs": [
    {
     "data": {
      "text/plain": [
       "['par',\n",
       " 'alors',\n",
       " 'du',\n",
       " 'sur',\n",
       " 'gouvernementale',\n",
       " 'validité',\n",
       " 'elle',\n",
       " 'sécurité',\n",
       " 'verket',\n",
       " 'la',\n",
       " 'notre',\n",
       " 'nous,',\n",
       " 'le',\n",
       " 'soumis',\n",
       " 'et',\n",
       " 'concerne',\n",
       " 'premier',\n",
       " 'présenter',\n",
       " 'contrat',\n",
       " 'peut',\n",
       " 'que',\n",
       " 'd’assurer',\n",
       " 'mesure',\n",
       " 'les',\n",
       " 'toute',\n",
       " 'diffèrent',\n",
       " 'arbetsmiljö-',\n",
       " 'au',\n",
       " 'obligations',\n",
       " 'concernant',\n",
       " 'qui',\n",
       " 'professionnel',\n",
       " 'lois',\n",
       " 'horaires',\n",
       " 'règlements',\n",
       " 'personne',\n",
       " 'étrangers',\n",
       " 'consultez',\n",
       " 'européenne',\n",
       " 'signalée',\n",
       " 'en',\n",
       " 'obligation',\n",
       " 'dangereuse',\n",
       " 'droits',\n",
       " 'être',\n",
       " 'non-conforme',\n",
       " 'www.av.se/posting',\n",
       " 'l’existence',\n",
       " 'respectée,',\n",
       " 'étranger',\n",
       " 'des',\n",
       " 'l’objet',\n",
       " 's’applique',\n",
       " 'savoir',\n",
       " 'l’office',\n",
       " 'pour',\n",
       " 'tenu',\n",
       " 'employeur',\n",
       " 'lieu',\n",
       " 'mission',\n",
       " 'contact',\n",
       " 'selon',\n",
       " 'travaillant',\n",
       " 'agence',\n",
       " 'cours',\n",
       " 'exemple',\n",
       " 'situation',\n",
       " 'de',\n",
       " 'documents',\n",
       " 'plus,',\n",
       " 'appartenant',\n",
       " 'impôts',\n",
       " 'suédois',\n",
       " 'non',\n",
       " 'employeurs',\n",
       " 'attestant',\n",
       " 'à',\n",
       " 'directement',\n",
       " 'désigner',\n",
       " 'délégué',\n",
       " 'rapport',\n",
       " 'respectée',\n",
       " 'l’union',\n",
       " 'faire',\n",
       " 'aux',\n",
       " 'résidents',\n",
       " 'permanents',\n",
       " 'suède',\n",
       " 'l’employeur',\n",
       " 'mêmes',\n",
       " 'site',\n",
       " 'également',\n",
       " 'est',\n",
       " 'travail',\n",
       " 'tout',\n",
       " 'cette',\n",
       " 'législation',\n",
       " 'l’hygiène',\n",
       " 'doit',\n",
       " 'détachement',\n",
       " 'outre',\n",
       " 'sociaux,',\n",
       " 'leur',\n",
       " 'arbetsmiljöverket',\n",
       " 'l’environnement',\n",
       " 'votre',\n",
       " 'ce',\n",
       " 'travailleurs',\n",
       " 'avantages',\n",
       " 'ou',\n",
       " 'pays',\n",
       " 'd’un',\n",
       " 'une',\n",
       " '<unk>',\n",
       " '<pad>',\n",
       " '<sos>',\n",
       " '<eos>',\n",
       " '.',\n",
       " ',']"
      ]
     },
     "execution_count": 85,
     "metadata": {},
     "output_type": "execute_result"
    }
   ],
   "execution_count": 85
  },
  {
   "metadata": {},
   "cell_type": "markdown",
   "source": "maybe try nltk.tokenize tomorrow",
   "id": "e1e2433d30df8280"
  },
  {
   "metadata": {
    "ExecuteTime": {
     "end_time": "2024-11-19T22:53:36.522870Z",
     "start_time": "2024-11-19T22:53:36.503120Z"
    }
   },
   "cell_type": "code",
   "source": [
    "src_word_to_index = {w:i for i,w in enumerate(src_vocab)}\n",
    "src_index_to_word = {i:w for i,w in enumerate(src_vocab)}\n",
    "trg_word_to_index = {w:i for i,w in enumerate(trg_vocab)}\n",
    "trg_index_to_word = {i:w for i,w in enumerate(trg_vocab)}\n"
   ],
   "id": "3039aa6d6c70f1c0",
   "outputs": [
    {
     "data": {
      "text/plain": [
       "113"
      ]
     },
     "execution_count": 87,
     "metadata": {},
     "output_type": "execute_result"
    }
   ],
   "execution_count": 87
  }
 ],
 "metadata": {
  "kernelspec": {
   "display_name": "Python 3",
   "language": "python",
   "name": "python3"
  },
  "language_info": {
   "codemirror_mode": {
    "name": "ipython",
    "version": 2
   },
   "file_extension": ".py",
   "mimetype": "text/x-python",
   "name": "python",
   "nbconvert_exporter": "python",
   "pygments_lexer": "ipython2",
   "version": "2.7.6"
  }
 },
 "nbformat": 4,
 "nbformat_minor": 5
}
