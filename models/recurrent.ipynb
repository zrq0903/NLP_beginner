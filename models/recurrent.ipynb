{
 "cells": [
  {
   "cell_type": "code",
   "id": "initial_id",
   "metadata": {
    "collapsed": true,
    "ExecuteTime": {
     "end_time": "2024-11-12T19:28:54.543321Z",
     "start_time": "2024-11-12T19:28:52.936537Z"
    }
   },
   "source": [
    "import torch\n",
    "import numpy as np\n",
    "import torch.nn as nn\n",
    "from click.termui import hidden_prompt_func\n",
    "from openpyxl.styles.builtins import output"
   ],
   "outputs": [],
   "execution_count": 1
  },
  {
   "metadata": {
    "ExecuteTime": {
     "end_time": "2024-11-12T23:08:24.528634Z",
     "start_time": "2024-11-12T23:08:24.505494Z"
    }
   },
   "cell_type": "code",
   "source": [
    "class RNN(nn.Module):\n",
    "    def __init__(self,input_size,hidden_layer,output_size):\n",
    "        super(RNN,self).__init__()\n",
    "        self.i2h = nn.Linear(input_size,hidden_layer)\n",
    "        self.w2h = nn.Linear(hidden_layer,hidden_layer)\n",
    "        self.h2o = nn.Linear(hidden_layer,output_size)\n",
    "        self.hidden_size = hidden_layer\n",
    "        #hidden = self.init_hidden()\n",
    "        \n",
    "    def forward(self,x,hidden=None):\n",
    "        if(hidden == None):\n",
    "            hidden = self.init_hidden()\n",
    "        x = self.i2h(x)\n",
    "        hidden = self.w2h(hidden)\n",
    "        hidden = torch.tanh(x + hidden)\n",
    "        output = self.h2o(hidden)\n",
    "        return output,hidden\n",
    "    \n",
    "    def init_hidden(self):\n",
    "        return torch.zeros(1,self.hidden_size)\n",
    "    "
   ],
   "id": "159fde90bdd131c3",
   "outputs": [],
   "execution_count": 57
  },
  {
   "metadata": {
    "ExecuteTime": {
     "end_time": "2024-11-12T23:08:37.656177Z",
     "start_time": "2024-11-12T23:08:37.592646Z"
    }
   },
   "cell_type": "code",
   "source": [
    "#test\n",
    "a = torch.zeros(128,10)\n",
    "\n",
    "model = RNN(10,30,20)\n",
    "#model.init_hidden()\n",
    "output,hidden = model(a)\n",
    "output.shape\n",
    "\n",
    "#test using torch.rnn\n",
    "model = nn.RNN(input_size=10,hidden_size=30)\n",
    "model(a)[0].shape"
   ],
   "id": "45fb46c93585a970",
   "outputs": [
    {
     "data": {
      "text/plain": [
       "torch.Size([128, 30])"
      ]
     },
     "execution_count": 59,
     "metadata": {},
     "output_type": "execute_result"
    }
   ],
   "execution_count": 59
  },
  {
   "metadata": {
    "ExecuteTime": {
     "end_time": "2024-11-12T23:10:08.875478Z",
     "start_time": "2024-11-12T23:10:08.844502Z"
    }
   },
   "cell_type": "code",
   "source": [
    "#writing rnn model\n",
    "class RNNModel(nn.Module):\n",
    "    def __init__(self,input_size,hidden_layer,output_size):\n",
    "        super(RNNModel,self).__init__()\n",
    "        self.rnncell = RNN(input_size,hidden_layer,output_size)\n",
    "        \n",
    "    def forward(self,x):\n",
    "        len,batch_size,__ = x.size() # suppose x dim (seq_len, batch, input_size)\n",
    "        outputs = []\n",
    "        for i in range(len):\n",
    "            output, hidden = self.rnncell(x[i])\n",
    "            outputs.append(output)\n",
    "        outputs = torch.stack(outputs,dim=0)\n",
    "        return outputs,hidden     "
   ],
   "id": "c6c39fb8ba46c320",
   "outputs": [],
   "execution_count": 60
  },
  {
   "metadata": {
    "ExecuteTime": {
     "end_time": "2024-11-12T23:11:18.761154Z",
     "start_time": "2024-11-12T23:11:18.729644Z"
    }
   },
   "cell_type": "code",
   "source": [
    "#test\n",
    "b = torch.zeros(10,128,5)\n",
    "model = RNNModel(5,20,15)\n",
    "model(b)[0].shape"
   ],
   "id": "f0b0e407033e3b3f",
   "outputs": [
    {
     "data": {
      "text/plain": [
       "torch.Size([10, 128, 15])"
      ]
     },
     "execution_count": 61,
     "metadata": {},
     "output_type": "execute_result"
    }
   ],
   "execution_count": 61
  },
  {
   "metadata": {},
   "cell_type": "code",
   "outputs": [],
   "execution_count": null,
   "source": "",
   "id": "f9cccfcacbc48874"
  }
 ],
 "metadata": {
  "kernelspec": {
   "display_name": "Python 3",
   "language": "python",
   "name": "python3"
  },
  "language_info": {
   "codemirror_mode": {
    "name": "ipython",
    "version": 2
   },
   "file_extension": ".py",
   "mimetype": "text/x-python",
   "name": "python",
   "nbconvert_exporter": "python",
   "pygments_lexer": "ipython2",
   "version": "2.7.6"
  }
 },
 "nbformat": 4,
 "nbformat_minor": 5
}
