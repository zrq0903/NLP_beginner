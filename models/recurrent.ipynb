{
 "cells": [
  {
   "cell_type": "code",
   "id": "initial_id",
   "metadata": {
    "collapsed": true,
    "ExecuteTime": {
     "end_time": "2024-11-16T21:25:10.682152Z",
     "start_time": "2024-11-16T21:25:08.907460Z"
    }
   },
   "source": [
    "import torch\n",
    "import numpy as np\n",
    "import torch.nn as nn\n",
    "from click.termui import hidden_prompt_func\n",
    "from openpyxl.styles.builtins import output"
   ],
   "outputs": [],
   "execution_count": 3
  },
  {
   "metadata": {
    "ExecuteTime": {
     "end_time": "2024-11-16T21:25:10.697116Z",
     "start_time": "2024-11-16T21:25:10.689138Z"
    }
   },
   "cell_type": "code",
   "source": [
    "class RNN(nn.Module):\n",
    "    def __init__(self,input_size,hidden_layer,output_size):\n",
    "        super(RNN,self).__init__()\n",
    "        self.i2h = nn.Linear(input_size,hidden_layer)\n",
    "        self.w2h = nn.Linear(hidden_layer,hidden_layer)\n",
    "        self.h2o = nn.Linear(hidden_layer,output_size)\n",
    "        self.hidden_size = hidden_layer\n",
    "        #hidden = self.init_hidden()\n",
    "        \n",
    "    def forward(self,x,hidden=None):\n",
    "        if(hidden == None):\n",
    "            hidden = self.init_hidden()\n",
    "        x = self.i2h(x)\n",
    "        hidden = self.w2h(hidden)\n",
    "        hidden = torch.tanh(x + hidden)\n",
    "        output = self.h2o(hidden)\n",
    "        return output,hidden\n",
    "    \n",
    "    def init_hidden(self):\n",
    "        return torch.zeros(1,self.hidden_size)\n",
    "    "
   ],
   "id": "159fde90bdd131c3",
   "outputs": [],
   "execution_count": 4
  },
  {
   "metadata": {
    "ExecuteTime": {
     "end_time": "2024-11-16T21:25:10.789998Z",
     "start_time": "2024-11-16T21:25:10.743989Z"
    }
   },
   "cell_type": "code",
   "source": [
    "#test\n",
    "a = torch.zeros(128,10)\n",
    "\n",
    "model = RNN(10,30,20)\n",
    "#model.init_hidden()\n",
    "output,hidden = model(a)\n",
    "output.shape\n",
    "\n",
    "#test using torch.rnn\n",
    "model = nn.RNN(input_size=10,hidden_size=30)\n",
    "model(a)[0].shape"
   ],
   "id": "45fb46c93585a970",
   "outputs": [
    {
     "data": {
      "text/plain": [
       "torch.Size([128, 30])"
      ]
     },
     "execution_count": 5,
     "metadata": {},
     "output_type": "execute_result"
    }
   ],
   "execution_count": 5
  },
  {
   "metadata": {
    "ExecuteTime": {
     "end_time": "2024-11-16T21:25:10.837832Z",
     "start_time": "2024-11-16T21:25:10.823870Z"
    }
   },
   "cell_type": "code",
   "source": [
    "#writing rnn model\n",
    "class RNNModel(nn.Module):\n",
    "    def __init__(self,input_size,hidden_layer,output_size):\n",
    "        super(RNNModel,self).__init__()\n",
    "        self.rnncell = RNN(input_size,hidden_layer,output_size)\n",
    "        \n",
    "    def forward(self,x):\n",
    "        len,batch_size,__ = x.size() # suppose x dim (seq_len, batch, input_size)\n",
    "        outputs = []\n",
    "        for i in range(len):\n",
    "            output, hidden = self.rnncell(x[i])\n",
    "            outputs.append(output)\n",
    "        outputs = torch.stack(outputs,dim=0)\n",
    "        return outputs,hidden \n",
    "    "
   ],
   "id": "c6c39fb8ba46c320",
   "outputs": [],
   "execution_count": 6
  },
  {
   "metadata": {
    "ExecuteTime": {
     "end_time": "2024-11-16T21:25:10.869749Z",
     "start_time": "2024-11-16T21:25:10.848804Z"
    }
   },
   "cell_type": "code",
   "source": [
    "#test\n",
    "b = torch.zeros(10,128,5)\n",
    "model = RNNModel(5,20,15)\n",
    "model(b)[0].shape"
   ],
   "id": "f0b0e407033e3b3f",
   "outputs": [
    {
     "data": {
      "text/plain": [
       "torch.Size([10, 128, 15])"
      ]
     },
     "execution_count": 7,
     "metadata": {},
     "output_type": "execute_result"
    }
   ],
   "execution_count": 7
  },
  {
   "metadata": {
    "ExecuteTime": {
     "end_time": "2024-11-16T21:35:47.026655Z",
     "start_time": "2024-11-16T21:35:47.003717Z"
    }
   },
   "cell_type": "code",
   "source": [
    "class LSTM(nn.Module):\n",
    "    def __init__(self,input_size,hidden_layer):\n",
    "        super(LSTM,self).__init__()\n",
    "        self.f = nn.Linear(input_size+hidden_layer,hidden_layer)\n",
    "        self.i = nn.Linear(input_size+hidden_layer,hidden_layer)\n",
    "        self.c = nn.Linear(input_size+hidden_layer,hidden_layer)\n",
    "        self.o = nn.Linear(input_size+hidden_layer,hidden_layer)\n",
    "        self.hidden_size = hidden_layer\n",
    "        \n",
    "    def forward(self,x,hidden=None,cell=None):\n",
    "        if hidden == None:\n",
    "            hidden = self.init_hidden(x)\n",
    "            cell = self.init_hidden(x)\n",
    "        joint = torch.cat((x,hidden),dim=-1)\n",
    "        f = torch.sigmoid(self.f(joint))\n",
    "        i = torch.sigmoid(self.i(joint))\n",
    "        c = torch.tanh(self.c(joint))\n",
    "        o = torch.sigmoid(self.o(joint))\n",
    "        cell = f*cell + i*c\n",
    "        hidden = o*torch.tanh(cell)\n",
    "        return hidden,cell\n",
    "    \n",
    "    def init_hidden(self,x):\n",
    "        return torch.zeros(x.shape[0],self.hidden_size)\n",
    "    \n",
    "class LSTMModel(nn.Module):\n",
    "    def __init__(self,input_size,hidden_layer):\n",
    "        super(LSTMModel,self).__init__()\n",
    "        self.lstmcell = LSTM(input_size,hidden_layer)\n",
    "    \n",
    "    def forward(self,x):\n",
    "        len,batch_size,__ = x.size()\n",
    "        outputs = []\n",
    "        for i in range(len):\n",
    "            hidden,cell = self.lstmcell(x[i])\n",
    "            outputs.append(hidden)\n",
    "        outputs = torch.stack(outputs,dim=0)\n",
    "        return outputs,(hidden,cell)"
   ],
   "id": "29cde8fa54336dc3",
   "outputs": [],
   "execution_count": 21
  },
  {
   "metadata": {
    "ExecuteTime": {
     "end_time": "2024-11-16T21:36:05.017321Z",
     "start_time": "2024-11-16T21:36:04.999401Z"
    }
   },
   "cell_type": "code",
   "source": [
    "c = torch.zeros(10,128,5)\n",
    "model = LSTMModel(5,20)\n",
    "model(c)[1][0].shape"
   ],
   "id": "540518b2ca14e353",
   "outputs": [
    {
     "data": {
      "text/plain": [
       "torch.Size([128, 20])"
      ]
     },
     "execution_count": 24,
     "metadata": {},
     "output_type": "execute_result"
    }
   ],
   "execution_count": 24
  },
  {
   "metadata": {},
   "cell_type": "code",
   "outputs": [],
   "execution_count": null,
   "source": "",
   "id": "f892a292cc13f80"
  }
 ],
 "metadata": {
  "kernelspec": {
   "display_name": "Python 3",
   "language": "python",
   "name": "python3"
  },
  "language_info": {
   "codemirror_mode": {
    "name": "ipython",
    "version": 2
   },
   "file_extension": ".py",
   "mimetype": "text/x-python",
   "name": "python",
   "nbconvert_exporter": "python",
   "pygments_lexer": "ipython2",
   "version": "2.7.6"
  }
 },
 "nbformat": 4,
 "nbformat_minor": 5
}
